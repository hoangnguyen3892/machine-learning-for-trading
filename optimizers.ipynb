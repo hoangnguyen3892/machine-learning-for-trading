{
 "cells": [
  {
   "cell_type": "code",
   "execution_count": 1,
   "metadata": {
    "collapsed": true,
    "deletable": true,
    "editable": true
   },
   "outputs": [],
   "source": [
    "import pandas as pd\n",
    "import matplotlib.pyplot as plt\n",
    "import numpy as np\n",
    "import scipy.optimize as spo"
   ]
  },
  {
   "cell_type": "code",
   "execution_count": 2,
   "metadata": {
    "collapsed": true,
    "deletable": true,
    "editable": true
   },
   "outputs": [],
   "source": [
    "def f(X):\n",
    "    \"\"\"Given a scalar X, return some value (a real number)\"\"\"\n",
    "    Y = (X - 1.5)**2 + 0.5\n",
    "    print(\"X = {0}, Y = {1}\".format(X, Y))\n",
    "    return Y"
   ]
  },
  {
   "cell_type": "code",
   "execution_count": 3,
   "metadata": {
    "collapsed": true,
    "deletable": true,
    "editable": true
   },
   "outputs": [],
   "source": [
    "def test_run():\n",
    "    Xguess = 2.0\n",
    "    min_result = spo.minimize(f, Xguess, method=\"SLSQP\", options={\"disp\": True})\n",
    "    print(\"Minina found at:\")\n",
    "    print(\"X = {0}, Y = {1}\".format(min_result.x, min_result.fun))\n",
    "    print(\"Number of iteration: {0}\".format(min_result.nit))\n",
    "    \n",
    "    \n",
    "    Xplot = np.linspace(0.5, 2.5, 21)\n",
    "    Yplot = f(Xplot)\n",
    "    plt.plot(Xplot, Yplot)\n",
    "    plt.plot(min_result.x, min_result.fun, 'ro')\n",
    "    plt.title('Minina of an object function')\n",
    "    plt.show()\n",
    "    plt.close()"
   ]
  },
  {
   "cell_type": "code",
   "execution_count": 4,
   "metadata": {
    "collapsed": false,
    "deletable": true,
    "editable": true
   },
   "outputs": [
    {
     "name": "stdout",
     "output_type": "stream",
     "text": [
      "X = [ 2.], Y = [ 0.75]\n",
      "X = [ 2.], Y = [ 0.75]\n",
      "X = [ 2.00000001], Y = [ 0.75000001]\n",
      "X = [ 0.99999999], Y = [ 0.75000001]\n",
      "X = [ 1.5], Y = [ 0.5]\n",
      "X = [ 1.5], Y = [ 0.5]\n",
      "X = [ 1.50000001], Y = [ 0.5]\n",
      "Optimization terminated successfully.    (Exit mode 0)\n",
      "            Current function value: [ 0.5]\n",
      "            Iterations: 2\n",
      "            Function evaluations: 7\n",
      "            Gradient evaluations: 2\n",
      "Minina found at:\n",
      "X = [ 1.5], Y = [ 0.5]\n",
      "Number of iteration: 2\n",
      "X = [ 0.5  0.6  0.7  0.8  0.9  1.   1.1  1.2  1.3  1.4  1.5  1.6  1.7  1.8  1.9\n",
      "  2.   2.1  2.2  2.3  2.4  2.5], Y = [ 1.5   1.31  1.14  0.99  0.86  0.75  0.66  0.59  0.54  0.51  0.5   0.51\n",
      "  0.54  0.59  0.66  0.75  0.86  0.99  1.14  1.31  1.5 ]\n"
     ]
    },
    {
     "data": {
      "image/png": "[encoded data removed]",
      "text/plain": [
       "<matplotlib.figure.Figure at 0x108863c18>"
      ]
     },
     "metadata": {},
     "output_type": "display_data"
    }
   ],
   "source": [
    "if __name__ == \"__main__\":\n",
    "    test_run()"
   ]
  },
  {
   "cell_type": "code",
   "execution_count": 5,
   "metadata": {
    "collapsed": true,
    "deletable": true,
    "editable": true
   },
   "outputs": [],
   "source": [
    "def error(line, data):\n",
    "    \"\"\"\n",
    "    Compute error between given line model and observed data\n",
    "\n",
    "    Parameters:\n",
    "\n",
    "    line: tuple/list/array (C0, C1) where C0 is slope and C1 is Y-intercept\n",
    "    data: 2D array where each row is a point (x , y)\n",
    "\n",
    "    Returns error as a single real value\n",
    "    \"\"\"\n",
    "\n",
    "    err = np.sum((data[:, 1] - (line[0] * data[:, 0] + line[1])) **2)\n",
    "    return err"
   ]
  },
  {
   "cell_type": "code",
   "execution_count": 6,
   "metadata": {
    "collapsed": true,
    "deletable": true,
    "editable": true
   },
   "outputs": [],
   "source": [
    "def error_poly(poly, data):\n",
    "    \"\"\"\n",
    "    Compute error between given polynomial and observed data\n",
    "\n",
    "    Parameters:\n",
    "\n",
    "    poly: np.poly1d or equivalent polynomial coefficients\n",
    "    data: 2D array where each row is a point (x , y)\n",
    "\n",
    "    Returns error as a single real value\n",
    "    \"\"\"\n",
    "    err = np.sum((data[:, 1] - np.polyval(poly, data[:, 0])) ** 2)\n",
    "    return err"
   ]
  },
  {
   "cell_type": "code",
   "execution_count": 7,
   "metadata": {
    "collapsed": true,
    "deletable": true,
    "editable": true
   },
   "outputs": [],
   "source": [
    "def run():\n",
    "    l_orig = np.float32([4, 2])\n",
    "    print('Original line: C0 = {0}, C1 = {1}'.format(l_orig[0], l_orig[1]))\n",
    "    Xorig = np.linspace(0, 10, 21)\n",
    "    Yorig = l_orig[0] * Xorig + l_orig[1]\n",
    "    plt.plot(Xorig, Yorig, \"b--\", linewidth=2.0, label=\"Original line\")\n",
    "\n",
    "    #Generate noisy data points\n",
    "    noise_sigma = 3.0\n",
    "    noise = np.random.normal(0, noise_sigma, Yorig.shape)\n",
    "    data = np.asarray([Xorig, Yorig + noise]).T\n",
    "    plt.plot(data[:, 0], data[:, 1], 'go', label=\"Data points\")\n",
    "    plt.show()"
   ]
  },
  {
   "cell_type": "code",
   "execution_count": 8,
   "metadata": {
    "collapsed": true,
    "deletable": true,
    "editable": true
   },
   "outputs": [],
   "source": [
    "def fit_line(data, error_func):\n",
    "    \"\"\"\n",
    "    Fit a line to given data, using a supplied error function\n",
    "\n",
    "    Parameters:\n",
    "    data: 2D array where each row is a point (X0, Y)\n",
    "    error_func: function that computes the error between a line and observed data\n",
    "    \n",
    "    Returns line that minimizes the error function\n",
    "    \"\"\"\n",
    "    #Generate initial guess for line model\n",
    "    l = np.float32([0, np.mean(data[:, 1])])\n",
    "    \n",
    "    #Plot intial guess (optional)\n",
    "    x_ends = np.float32([-5, 5])\n",
    "    plt.plot(x_ends, l[0] * x_ends + l[1], 'm--', linewidth=2.0, label=\"Initial guess\")\n",
    "    plt.show()\n",
    "\n",
    "    result = spo.minimize(error_func, l , args=(data, ), method='SLSQP', options={'disc': True})\n",
    "    return result.x"
   ]
  },
  {
   "cell_type": "code",
   "execution_count": 10,
   "metadata": {
    "collapsed": false,
    "deletable": true,
    "editable": true
   },
   "outputs": [],
   "source": [
    "def fit_poly(data, error_func, degree=3):\n",
    "    \"\"\"\n",
    "    Fit a polynial to given data, using a supplied error function\n",
    "\n",
    "    Parameters:\n",
    "    data: 2D array where each row is a point (X0, Y)\n",
    "    error_func: function that computes the error between a line and observed data\n",
    "    \n",
    "    Returns polynomial that minimizes the error function\n",
    "    \"\"\"\n",
    "    #Generate initial guess for polynomial model\n",
    "    guess = np.poly1d(np.ones(degree+1, dtype=np.float32))\n",
    "                      \n",
    "    #Plot intial guess (optional)\n",
    "    x = np.linspace(-5, 5, 21)\n",
    "    plt.plot(x, np.polyval(guess, x), 'm--', linewidth=2.0, label=\"Initial guess\")\n",
    "    plt.show()\n",
    "\n",
    "    result = spo.minimize(error_func, guess, args=(data, ), method='SLSQP', options={'disc': True})\n",
    "    return np.poly1d(result.x)"
   ]
  },
  {
   "cell_type": "code",
   "execution_count": 11,
   "metadata": {
    "collapsed": false,
    "deletable": true,
    "editable": true
   },
   "outputs": [
    {
     "name": "stdout",
     "output_type": "stream",
     "text": [
      "Original line: C0 = 4.0, C1 = 2.0\n"
     ]
    },
    {
     "data": {
      "image/png": "[encoded data removed]",
      "text/plain": [
       "<matplotlib.figure.Figure at 0x108a2bcf8>"
      ]
     },
     "metadata": {},
     "output_type": "display_data"
    }
   ],
   "source": [
    "if __name__ == \"__main__\":\n",
    "    run()"
   ]
  },
  {
   "cell_type": "code",
   "execution_count": null,
   "metadata": {
    "collapsed": true,
    "deletable": true,
    "editable": true
   },
   "outputs": [],
   "source": []
  }
 ],
 "metadata": {
  "kernelspec": {
   "display_name": "Python 3",
   "language": "python",
   "name": "python3"
  },
  "language_info": {
   "codemirror_mode": {
    "name": "ipython",
    "version": 3
   },
   "file_extension": ".py",
   "mimetype": "text/x-python",
   "name": "python",
   "nbconvert_exporter": "python",
   "pygments_lexer": "ipython3",
   "version": "3.5.2"
  },
  "toc": {
   "colors": {
    "hover_highlight": "#DAA520",
    "running_highlight": "#FF0000",
    "selected_highlight": "#FFD700"
   },
   "moveMenuLeft": true,
   "nav_menu": {
    "height": "12px",
    "width": "252px"
   },
   "navigate_menu": true,
   "number_sections": true,
   "sideBar": true,
   "threshold": 4,
   "toc_cell": false,
   "toc_section_display": "block",
   "toc_window_display": false
  }
 },
 "nbformat": 4,
 "nbformat_minor": 2
}
